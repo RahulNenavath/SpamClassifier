{
 "cells": [
  {
   "cell_type": "code",
   "execution_count": 1,
   "metadata": {},
   "outputs": [],
   "source": [
    "import os\n",
    "import re\n",
    "import pandas"
   ]
  },
  {
   "cell_type": "code",
   "execution_count": 34,
   "metadata": {},
   "outputs": [],
   "source": [
    "dataset_folder_path = \"/Users/rahulnenavath/Documents/Personal_Projects/Datasets/spam_ham\"\n",
    "dataset_name = \"spam_dataset.csv\"\n",
    "dataset_path = os.path.join(dataset_folder_path, dataset_name)"
   ]
  },
  {
   "cell_type": "markdown",
   "metadata": {},
   "source": [
    "### Data Check and Correction"
   ]
  },
  {
   "cell_type": "code",
   "execution_count": 35,
   "metadata": {},
   "outputs": [
    {
     "name": "stdout",
     "output_type": "stream",
     "text": [
      "Number of Rows: 6700\n",
      "Columns: Index(['v1', 'v2'], dtype='object')\n",
      "     v1                                                 v2\n",
      "0   ham  Go until jurong point, crazy.. Available only ...\n",
      "1   ham                      Ok lar... Joking wif u oni...\n",
      "2  spam  Free entry in 2 a wkly comp to win FA Cup fina...\n"
     ]
    }
   ],
   "source": [
    "spam_df = pandas.read_csv(dataset_path)\n",
    "spam_df.drop(['Unnamed: 2', 'Unnamed: 3', 'Unnamed: 4'],inplace=True, axis=1)\n",
    "print(f'Number of Rows: {len(spam_df)}')\n",
    "print(f'Columns: {spam_df.columns}')\n",
    "print(spam_df.head(n=3))"
   ]
  },
  {
   "cell_type": "code",
   "execution_count": 36,
   "metadata": {},
   "outputs": [],
   "source": [
    "# Rename Columns:\n",
    "spam_df.rename(columns={'v1': 'target', 'v2':'message'}, inplace=True)"
   ]
  },
  {
   "cell_type": "code",
   "execution_count": 37,
   "metadata": {},
   "outputs": [
    {
     "name": "stdout",
     "output_type": "stream",
     "text": [
      "Missing  values in any columns:\n"
     ]
    },
    {
     "data": {
      "text/plain": [
       "target     0\n",
       "message    0\n",
       "dtype: int64"
      ]
     },
     "execution_count": 37,
     "metadata": {},
     "output_type": "execute_result"
    }
   ],
   "source": [
    "print(f'Missing  values in any columns:')\n",
    "spam_df.isnull().sum()"
   ]
  },
  {
   "cell_type": "code",
   "execution_count": 38,
   "metadata": {},
   "outputs": [
    {
     "name": "stdout",
     "output_type": "stream",
     "text": [
      "Label Distribution:\n"
     ]
    },
    {
     "data": {
      "text/plain": [
       "ham       0.732836\n",
       "spam      0.266866\n",
       "spam\\n    0.000149\n",
       "ham\\n     0.000149\n",
       "Name: target, dtype: float64"
      ]
     },
     "execution_count": 38,
     "metadata": {},
     "output_type": "execute_result"
    }
   ],
   "source": [
    "print(f'Label Distribution:')\n",
    "spam_df['target'].value_counts(normalize=True)"
   ]
  },
  {
   "cell_type": "code",
   "execution_count": 39,
   "metadata": {},
   "outputs": [],
   "source": [
    "# Fix labels - change \"spam\\n\" to \"spam\"\n",
    "def fix_space(text:str):\n",
    "    return text.rstrip()\n",
    "\n",
    "spam_df['target'] = spam_df['target'].apply(fix_space)"
   ]
  },
  {
   "cell_type": "code",
   "execution_count": 40,
   "metadata": {},
   "outputs": [
    {
     "name": "stdout",
     "output_type": "stream",
     "text": [
      "Label Distribution:\n"
     ]
    },
    {
     "data": {
      "text/plain": [
       "ham     0.732985\n",
       "spam    0.267015\n",
       "Name: target, dtype: float64"
      ]
     },
     "execution_count": 40,
     "metadata": {},
     "output_type": "execute_result"
    }
   ],
   "source": [
    "print(f'Label Distribution:')\n",
    "spam_df['target'].value_counts(normalize=True)"
   ]
  },
  {
   "cell_type": "code",
   "execution_count": 31,
   "metadata": {},
   "outputs": [],
   "source": [
    "spam_df.to_csv('spam_dataset.csv',index=False)"
   ]
  },
  {
   "cell_type": "code",
   "execution_count": null,
   "metadata": {},
   "outputs": [],
   "source": []
  }
 ],
 "metadata": {
  "interpreter": {
   "hash": "7ea1e1b53a613de913a516fe350f45e607bb1a8a2c7f8aceb62ba768fce779f4"
  },
  "kernelspec": {
   "display_name": "Python 3.9.7 64-bit ('as_keyword_extraction': conda)",
   "language": "python",
   "name": "python3"
  },
  "language_info": {
   "codemirror_mode": {
    "name": "ipython",
    "version": 3
   },
   "file_extension": ".py",
   "mimetype": "text/x-python",
   "name": "python",
   "nbconvert_exporter": "python",
   "pygments_lexer": "ipython3",
   "version": "3.9.7"
  },
  "orig_nbformat": 4
 },
 "nbformat": 4,
 "nbformat_minor": 2
}
